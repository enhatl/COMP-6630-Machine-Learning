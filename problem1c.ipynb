{
  "cells": [
    {
      "cell_type": "markdown",
      "metadata": {
        "id": "view-in-github"
      },
      "source": [
        "<a href=\"https://colab.research.google.com/github/probml/probml-notebooks/blob/main/notebooks-d2l/naive_bayes_mnist.ipynb\" target=\"_parent\"><img src=\"https://colab.research.google.com/assets/colab-badge.svg\" alt=\"Open In Colab\"/></a>"
      ]
    },
    {
      "cell_type": "markdown",
      "metadata": {
        "id": "rQE58QFwER8p"
      },
      "source": [
        "# Naive Bayes classifiers\n",
        "This Colab shows you an implementation of a Naive Bayes classifiers from scratch using Numpy.\n",
        "This classifier obtains 84.27% accuracy on the MNIST test set.\n",
        "\n",
        "We use binary features, and 2 classes (based on sec 18.9 of http://d2l.ai/chapter_appendix-mathematics-for-deep-learning/naive-bayes.html).\n",
        "\n",
        "\n"
      ]
    },
    {
      "cell_type": "code",
      "execution_count": 24,
      "metadata": {
        "id": "r6vMMHgoEEXa",
        "outputId": "d5f91c27-0e66-4085-9459-5f766c32d180",
        "colab": {
          "base_uri": "https://localhost:8080/"
        }
      },
      "outputs": [
        {
          "output_type": "stream",
          "name": "stdout",
          "text": [
            "mkdir: cannot create directory ‘figures’: File exists\n"
          ]
        }
      ],
      "source": [
        "# Assignment 3 - Naive Bayes classification on MNIST\n",
        "# Machine Learning class: COMP 5630/6630/6630-D01\n",
        "# Spring 2023\n",
        "# Anh Nguyen <anh.ng8@gmail.com>\n",
        "\n",
        "import numpy as np\n",
        "import matplotlib.pyplot as plt\n",
        "\n",
        "np.random.seed(seed=1)\n",
        "import math\n",
        "import collections\n",
        "import os\n",
        "import random\n",
        "\n",
        "import json\n",
        "import multiprocessing\n",
        "\n",
        "try:\n",
        "    import torch\n",
        "except ModuleNotFoundError:\n",
        "    %pip install -qq torch\n",
        "    import torch\n",
        "from torch import nn\n",
        "from torch.nn import functional as F\n",
        "\n",
        "try:\n",
        "    import torchvision\n",
        "except ModuleNotFoundError:\n",
        "    %pip install -qq torchvision\n",
        "    import torchvision\n",
        "\n",
        "!mkdir figures # for saving plots\n",
        "\n",
        "# !wget https://raw.githubusercontent.com/d2l-ai/d2l-en/r0.17/d2l/torch.py -q -O d2l.py\n",
        "# import d2l\n",
        "\n",
        "def show_images(imgs, num_rows, num_cols, titles=None, scale=1.5):\n",
        "    \"\"\"Plot a list of images.\n",
        "\n",
        "    Defined in :numref:`sec_utils`\"\"\"\n",
        "    figsize = (num_cols * scale, num_rows * scale)\n",
        "    _, axes = plt.subplots(num_rows, num_cols, figsize=figsize)\n",
        "    axes = axes.flatten()\n",
        "    for i, (ax, img) in enumerate(zip(axes, imgs)):\n",
        "        try:\n",
        "            img = d2l.numpy(img)\n",
        "        except:\n",
        "            pass\n",
        "        ax.imshow(img)\n",
        "        ax.axes.get_xaxis().set_visible(False)\n",
        "        ax.axes.get_yaxis().set_visible(False)\n",
        "        if titles:\n",
        "            ax.set_title(titles[i])\n",
        "    return axes "
      ]
    },
    {
      "cell_type": "markdown",
      "metadata": {
        "id": "1rtlA0JjEsy6"
      },
      "source": [
        "# Get data\n",
        "\n",
        "We use a binarized version of MNIST."
      ]
    },
    {
      "cell_type": "code",
      "execution_count": 25,
      "metadata": {
        "id": "d-NKARQFEkGf"
      },
      "outputs": [],
      "source": [
        "data_transform = torchvision.transforms.Compose([torchvision.transforms.ToTensor()])\n",
        "\n",
        "mnist_train = torchvision.datasets.MNIST(root=\"./temp\", train=True, transform=data_transform, download=True)\n",
        "mnist_test = torchvision.datasets.MNIST(root=\"./temp\", train=False, transform=data_transform, download=True)"
      ]
    },
    {
      "cell_type": "code",
      "execution_count": 26,
      "metadata": {
        "colab": {
          "base_uri": "https://localhost:8080/"
        },
        "id": "Ich7gt9pGblV",
        "outputId": "e1ab7e7a-666e-4970-c783-72ec87492a72"
      },
      "outputs": [
        {
          "output_type": "stream",
          "name": "stdout",
          "text": [
            "Dataset MNIST\n",
            "    Number of datapoints: 60000\n",
            "    Root location: ./temp\n",
            "    Split: Train\n",
            "    StandardTransform\n",
            "Transform: Compose(\n",
            "               ToTensor()\n",
            "           )\n"
          ]
        }
      ],
      "source": [
        "print(mnist_train)"
      ]
    },
    {
      "cell_type": "code",
      "execution_count": 27,
      "metadata": {
        "colab": {
          "base_uri": "https://localhost:8080/"
        },
        "id": "oGMD_-WjGrkM",
        "outputId": "06324bc6-5d10-4ddd-fc60-993b71dd7f42"
      },
      "outputs": [
        {
          "output_type": "stream",
          "name": "stdout",
          "text": [
            "<class 'torch.Tensor'>\n",
            "torch.Size([1, 28, 28])\n",
            "<class 'int'>\n",
            "4\n"
          ]
        }
      ],
      "source": [
        "image, label = mnist_train[2]\n",
        "print(type(image))\n",
        "print(image.shape)\n",
        "print(type(label))\n",
        "print(label)"
      ]
    },
    {
      "cell_type": "code",
      "execution_count": 28,
      "metadata": {
        "colab": {
          "base_uri": "https://localhost:8080/"
        },
        "id": "P_sKyc0HGsxN",
        "outputId": "1fbbf669-6e0b-499c-902d-c599fde6d50d"
      },
      "outputs": [
        {
          "output_type": "execute_result",
          "data": {
            "text/plain": [
              "tensor([[0.3569, 0.1098, 0.0196, 0.9137, 0.9804],\n",
              "        [0.0000, 0.0000, 0.4000, 0.9961, 0.8627],\n",
              "        [0.0000, 0.0000, 0.6627, 0.9961, 0.5373],\n",
              "        [0.0000, 0.0000, 0.6627, 0.9961, 0.2235],\n",
              "        [0.0000, 0.0000, 0.6627, 0.9961, 0.2235]])"
            ]
          },
          "metadata": {},
          "execution_count": 28
        }
      ],
      "source": [
        "image[0, 15:20, 15:20]  # not binary (pytorch rescales to 0:1)"
      ]
    },
    {
      "cell_type": "code",
      "execution_count": 29,
      "metadata": {
        "colab": {
          "base_uri": "https://localhost:8080/"
        },
        "id": "HPeZdWNlJqsZ",
        "outputId": "eac05ee5-3f95-45e2-ec52-d6ab60b81c18"
      },
      "outputs": [
        {
          "output_type": "execute_result",
          "data": {
            "text/plain": [
              "[tensor(0.), tensor(1.)]"
            ]
          },
          "metadata": {},
          "execution_count": 29
        }
      ],
      "source": [
        "[torch.min(image), torch.max(image)]"
      ]
    },
    {
      "cell_type": "code",
      "execution_count": 30,
      "metadata": {
        "colab": {
          "base_uri": "https://localhost:8080/"
        },
        "id": "GDvhNkX2MBYt",
        "outputId": "05c5f97c-9f8a-43c4-d4e2-f83fb825c893"
      },
      "outputs": [
        {
          "output_type": "stream",
          "name": "stdout",
          "text": [
            "torch.Size([1, 28, 28])\n",
            "torch.Size([2, 1, 28, 28])\n",
            "torch.Size([1, 2, 28, 28])\n",
            "torch.Size([2, 28, 28])\n"
          ]
        }
      ],
      "source": [
        "print(mnist_train[0][0].shape)  # (1,28,28)\n",
        "indices = [0, 1]\n",
        "xx = torch.stack([mnist_train[i][0] for i in indices])\n",
        "print(xx.shape)\n",
        "xx = torch.stack([mnist_train[i][0] for i in indices], dim=1)\n",
        "print(xx.shape)\n",
        "xx = torch.stack([mnist_train[i][0] for i in indices], dim=1).squeeze(0)\n",
        "print(xx.shape)"
      ]
    },
    {
      "cell_type": "code",
      "execution_count": 31,
      "metadata": {
        "id": "vSp0TiCFJGgi"
      },
      "outputs": [],
      "source": [
        "# convert from torch.tensor to numpy, extract subset of indices, optionally binarize\n",
        "def get_data(data, indices=None, binarize=True):\n",
        "    N = len(data)\n",
        "    if indices is None:\n",
        "        indices = range(0, N)\n",
        "    # X = torch.stack([data[i][0] for i in indices], dim=1).squeeze(0) # (N,28,28)\n",
        "    X = np.stack([data[i][0].numpy() for i in indices], axis=1).squeeze(0)  # (N,28,28)\n",
        "    if binarize:\n",
        "        X = X > 0.5\n",
        "    # y = torch.tensor([data[i][1] for i in indices])\n",
        "    y = np.array([data[i][1] for i in indices])\n",
        "    return X, y"
      ]
    },
    {
      "cell_type": "code",
      "execution_count": 32,
      "metadata": {
        "colab": {
          "base_uri": "https://localhost:8080/",
          "height": 212
        },
        "id": "zkzWe8OIKVrL",
        "outputId": "7827be41-a9e3-459d-d7ed-479ec9b49d4a"
      },
      "outputs": [
        {
          "output_type": "stream",
          "name": "stdout",
          "text": [
            "[(10, 28, 28), (10,)]\n",
            "[[0.7294118  0.99215686 0.99215686 0.5882353  0.10588235]\n",
            " [0.0627451  0.3647059  0.9882353  0.99215686 0.73333335]\n",
            " [0.         0.         0.9764706  0.99215686 0.9764706 ]\n",
            " [0.50980395 0.7176471  0.99215686 0.99215686 0.8117647 ]\n",
            " [0.99215686 0.99215686 0.99215686 0.98039216 0.7137255 ]]\n"
          ]
        },
        {
          "output_type": "display_data",
          "data": {
            "text/plain": [
              "<Figure size 1080x108 with 10 Axes>"
            ],
            "image/png": "[encoded data removed]"
          },
          "metadata": {
            "needs_background": "light"
          }
        }
      ],
      "source": [
        "indices = range(0, 10)\n",
        "images, labels = get_data(mnist_train, indices, False)\n",
        "print([images.shape, labels.shape])\n",
        "print(images[0, 15:20, 15:20])  # not binary\n",
        "\n",
        "show_images(images, 1, 10);"
      ]
    },
    {
      "cell_type": "code",
      "execution_count": 33,
      "metadata": {
        "colab": {
          "base_uri": "https://localhost:8080/",
          "height": 212
        },
        "id": "AruGVKQdLaiT",
        "outputId": "d331be66-90bd-4fea-aacb-e57b25aa21aa"
      },
      "outputs": [
        {
          "output_type": "stream",
          "name": "stdout",
          "text": [
            "[(10, 28, 28), (10,)]\n",
            "[[ True  True  True  True False]\n",
            " [False False  True  True  True]\n",
            " [False False  True  True  True]\n",
            " [ True  True  True  True  True]\n",
            " [ True  True  True  True  True]]\n"
          ]
        },
        {
          "output_type": "display_data",
          "data": {
            "text/plain": [
              "<Figure size 1080x108 with 10 Axes>"
            ],
            "image/png": "[encoded data removed]"
          },
          "metadata": {
            "needs_background": "light"
          }
        }
      ],
      "source": [
        "indices = range(0, 10)\n",
        "images, labels = get_data(mnist_train, indices, True)\n",
        "print([images.shape, labels.shape])\n",
        "print(images[0, 15:20, 15:20])  # binary\n",
        "show_images(images, 1, 10);"
      ]
    },
    {
      "cell_type": "code",
      "execution_count": 34,
      "metadata": {
        "id": "OgKlCqxcLxQY"
      },
      "outputs": [],
      "source": [
        "X_train, y_train = get_data(mnist_train)\n",
        "X_test, y_test = get_data(mnist_test)"
      ]
    },
    {
      "cell_type": "code",
      "execution_count": 35,
      "metadata": {
        "colab": {
          "base_uri": "https://localhost:8080/"
        },
        "id": "ffF-ThsiNEim",
        "outputId": "4f29c4e8-ae1a-4dd8-872e-cb67ef781718"
      },
      "outputs": [
        {
          "output_type": "stream",
          "name": "stdout",
          "text": [
            "(60000, 28, 28)\n",
            "<class 'numpy.ndarray'>\n",
            "[[ True  True  True  True False]\n",
            " [False False  True  True  True]\n",
            " [False False  True  True  True]\n",
            " [ True  True  True  True  True]\n",
            " [ True  True  True  True  True]]\n"
          ]
        }
      ],
      "source": [
        "print(X_train.shape)\n",
        "print(type(X_train))\n",
        "\n",
        "print(X_train[0, 15:20, 15:20])"
      ]
    },
    {
      "cell_type": "markdown",
      "metadata": {
        "id": "4YZMNew3NMWe"
      },
      "source": [
        "# Training\n",
        "\n"
      ]
    },
    {
      "cell_type": "markdown",
      "source": [
        "Estimating the prior P(Y)"
      ],
      "metadata": {
        "id": "K0SOtlkWM6o2"
      }
    },
    {
      "cell_type": "code",
      "execution_count": 36,
      "metadata": {
        "colab": {
          "base_uri": "https://localhost:8080/"
        },
        "id": "K7QFg6vWNM6I",
        "outputId": "05642141-3cd1-49b6-9644-519618267c16"
      },
      "outputs": [
        {
          "output_type": "stream",
          "name": "stdout",
          "text": [
            "[0.1 0.1 0.1 0.1 0.1 0.1 0.1 0.1 0.1 0.1] --> 1.0\n"
          ]
        }
      ],
      "source": [
        "n_y = np.zeros(10)\n",
        "for y in range(10):\n",
        "    n_y[y] = (y_train == y).sum()\n",
        "P_y = n_y / n_y.sum()\n",
        "print (P_y, \"-->\", np.sum(P_y))"
      ]
    },
    {
      "cell_type": "code",
      "execution_count": 37,
      "metadata": {
        "colab": {
          "base_uri": "https://localhost:8080/"
        },
        "id": "2vKAPP2wNi1E",
        "outputId": "1440a6b5-5894-46f3-c7da-4b49737cf17f"
      },
      "outputs": [
        {
          "output_type": "stream",
          "name": "stdout",
          "text": [
            "[0 1 2 3 4 5 6 7 8 9]\n",
            "dict_keys([5, 0, 4, 1, 9, 2, 3, 6, 7, 8])\n",
            "dict_values([5421, 5923, 5842, 6742, 5949, 5958, 6131, 5918, 6265, 5851])\n"
          ]
        }
      ],
      "source": [
        "# Training set is not equally balanced across classes...\n",
        "print(np.unique(y_train))\n",
        "from collections import Counter\n",
        "\n",
        "cnt = Counter(y_train)\n",
        "print(cnt.keys())\n",
        "print(cnt.values())"
      ]
    },
    {
      "cell_type": "markdown",
      "metadata": {
        "id": "qz_i5HmcQYJY"
      },
      "source": [
        "We use add-one smoothing for class conditional Bernoulli distributions."
      ]
    },
    {
      "cell_type": "code",
      "execution_count": 38,
      "metadata": {
        "colab": {
          "base_uri": "https://localhost:8080/"
        },
        "id": "1ki32WHTNpyJ",
        "outputId": "2ef54774-4ea1-4ba3-daa4-4afc5584c3dd"
      },
      "outputs": [
        {
          "output_type": "stream",
          "name": "stdout",
          "text": [
            "(10, 28, 28)\n",
            "<class 'numpy.ndarray'>\n"
          ]
        }
      ],
      "source": [
        "n_x = np.zeros((10, 28, 28))\n",
        "for y in range(10):\n",
        "    n_x[y] = X_train[y_train == y].sum(axis=0)\n",
        "\n",
        "P_xy = (n_x + 1) / (n_y + 2).reshape(10, 1, 1)    # MAP estimate of P(X|y) using pseudo counts of 1 (i.e. 1-smoothing)\n",
        "\n",
        "print(P_xy.shape)\n",
        "print(type(P_xy))"
      ]
    },
    {
      "cell_type": "code",
      "execution_count": 39,
      "metadata": {
        "colab": {
          "base_uri": "https://localhost:8080/",
          "height": 121
        },
        "id": "_UIdj6bUQdzo",
        "outputId": "f397892e-f170-4ae1-81c1-fbffbc114658"
      },
      "outputs": [
        {
          "output_type": "display_data",
          "data": {
            "text/plain": [
              "<Figure size 1080x108 with 10 Axes>"
            ],
            "image/png": "[encoded data removed]"
          },
          "metadata": {
            "needs_background": "light"
          }
        }
      ],
      "source": [
        "show_images(P_xy, 1, 10)\n",
        "plt.tight_layout()\n",
        "plt.savefig(\"nbc_mnist_centroids.pdf\", dpi=300)\n",
        "\n",
        "# from google.colab import files\n",
        "# files.download(\"nbc_mnist_centroids.pdf\") "
      ]
    },
    {
      "cell_type": "markdown",
      "metadata": {
        "id": "Quc-apFHQ0Wl"
      },
      "source": [
        "# Testing"
      ]
    },
    {
      "cell_type": "code",
      "execution_count": 40,
      "metadata": {
        "colab": {
          "base_uri": "https://localhost:8080/"
        },
        "id": "rW9D7CfdQ04-",
        "outputId": "b3a2d20c-315f-46f3-9eb3-773af58e87df"
      },
      "outputs": [
        {
          "output_type": "stream",
          "name": "stdout",
          "text": [
            "ytrue  7 yhat  0\n",
            "[0]\n"
          ]
        },
        {
          "output_type": "stream",
          "name": "stderr",
          "text": [
            "<ipython-input-40-780790be6d78>:2: RuntimeWarning: invalid value encountered in log\n",
            "  log_P_xy_neg = np.log(1 - P_xy)\n"
          ]
        }
      ],
      "source": [
        "log_P_xy = np.log(P_xy)\n",
        "log_P_xy_neg = np.log(1 - P_xy)\n",
        "log_P_y = np.log(P_y)\n",
        "\n",
        "\n",
        "def bayes_pred_stable(x):\n",
        "    # x = x.unsqueeze(0)  # (28, 28) -> (1, 28, 28)\n",
        "    x = np.expand_dims(x, 0)  # (28, 28) -> (1, 28, 28)\n",
        "\n",
        "    # Equivalent to computing the product of the class-conditional probabilities for all the pixels\n",
        "    # And then taking the log\n",
        "    p_xy = log_P_xy * x + log_P_xy_neg * (1 - x)  # select the 0 and 1 pixels\n",
        "    p_xy = p_xy.reshape(10, -1).sum(axis=1)  # p(x|y)\n",
        "\n",
        "    # Return log of p(y|x) where y = 0, 1, 2, ..., 9 (i.e., 10 MNIST classes)\n",
        "    return p_xy #+ log_P_y\n",
        "\n",
        "\n",
        "def predict(X):\n",
        "    return [np.argmax(bayes_pred_stable(x)) for x in X]\n",
        "\n",
        "\n",
        "# image, label = mnist_test[0]\n",
        "image = X_test[0]\n",
        "label = y_test[0]\n",
        "py = bayes_pred_stable(image)\n",
        "\n",
        "print(\"ytrue \", label, \"yhat \", np.argmax(py))\n",
        "print(predict([image]))"
      ]
    },
    {
      "cell_type": "code",
      "execution_count": 41,
      "metadata": {
        "colab": {
          "base_uri": "https://localhost:8080/",
          "height": 228
        },
        "id": "6TMXTNDBRxEL",
        "outputId": "d354f8e2-2ba3-4923-f42d-9023532eb46f"
      },
      "outputs": [
        {
          "output_type": "display_data",
          "data": {
            "text/plain": [
              "<Figure size 1080x216 with 20 Axes>"
            ],
            "image/png": "[encoded data removed]"
          },
          "metadata": {
            "needs_background": "light"
          }
        }
      ],
      "source": [
        "indices = range(0, 20)\n",
        "X1, y1 = get_data(mnist_test, indices, True)\n",
        "preds = predict(X1)\n",
        "show_images(X1, 2, 10, titles=[ str(d) for d in preds])\n",
        "plt.tight_layout()\n",
        "plt.savefig(\"nbc_mnist_preds.pdf\", dpi=300)"
      ]
    },
    {
      "cell_type": "code",
      "execution_count": 42,
      "metadata": {
        "colab": {
          "base_uri": "https://localhost:8080/"
        },
        "id": "ikJqdEyVTqZX",
        "outputId": "25f7e415-00e2-46bd-b2d9-cbef56ecf97a"
      },
      "outputs": [
        {
          "output_type": "execute_result",
          "data": {
            "text/plain": [
              "0.098"
            ]
          },
          "metadata": {},
          "execution_count": 42
        }
      ],
      "source": [
        "preds = predict(X_test)\n",
        "float((preds == y_test).sum()) / len(y_test)  # test accuracy"
      ]
    }
  ],
  "metadata": {
    "colab": {
      "provenance": []
    },
    "kernelspec": {
      "display_name": "Python 3",
      "name": "python3"
    },
    "language_info": {
      "name": "python"
    }
  },
  "nbformat": 4,
  "nbformat_minor": 0
}